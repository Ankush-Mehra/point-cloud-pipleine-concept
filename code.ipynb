{
  "nbformat": 4,
  "nbformat_minor": 0,
  "metadata": {
    "colab": {
      "provenance": [],
      "gpuType": "V28"
    },
    "kernelspec": {
      "name": "python3",
      "display_name": "Python 3"
    },
    "language_info": {
      "name": "python"
    },
    "accelerator": "TPU"
  },
  "cells": [
    {
      "cell_type": "code",
      "execution_count": null,
      "metadata": {
        "id": "rVFaAocM7MJ1",
        "collapsed": true
      },
      "outputs": [],
      "source": [
        "!wget https://point-clouds-data.s3.us-west-2.amazonaws.com/0000000357.pcd\n",
        "\n",
        "# Reflectance duplicated into 3 color channels for visualization, not real camera color all at 1st channel (Red)"
      ]
    },
    {
      "cell_type": "code",
      "source": [
        "!wget https://point-clouds-data.s3.us-west-2.amazonaws.com/KITTI_PCD.zip && unzip KITTI_PCD.zip"
      ],
      "metadata": {
        "collapsed": true,
        "id": "dxxvOQ6EicGo"
      },
      "execution_count": null,
      "outputs": []
    },
    {
      "cell_type": "code",
      "source": [
        "!mkdir output"
      ],
      "metadata": {
        "id": "u5Xj2YvJzYJr"
      },
      "execution_count": null,
      "outputs": []
    },
    {
      "cell_type": "code",
      "execution_count": null,
      "metadata": {
        "id": "fmDbIGYOxANj",
        "collapsed": true
      },
      "outputs": [],
      "source": [
        "!pip install open3d"
      ]
    },
    {
      "cell_type": "code",
      "source": [
        "!pip install kaleido==0.2.1"
      ],
      "metadata": {
        "collapsed": true,
        "id": "x-mTaggtWPV6"
      },
      "execution_count": null,
      "outputs": []
    },
    {
      "cell_type": "code",
      "source": [
        "import open3d as o3d\n",
        "import numpy as np\n",
        "import glob\n",
        "import matplotlib.pyplot as plt\n",
        "from open3d.visualization.draw_plotly import get_plotly_fig\n"
      ],
      "metadata": {
        "id": "1DkZ8tjwkZ96"
      },
      "execution_count": null,
      "outputs": []
    },
    {
      "cell_type": "code",
      "source": [
        "point_cloud_files=sorted(glob.glob(\"KITTI_PCD/*.pcd\"))\n",
        "idx=200\n",
        "print(point_cloud_files[idx])\n",
        "point_cloud=o3d.io.read_point_cloud(point_cloud_files[idx])"
      ],
      "metadata": {
        "id": "qtYJ-Ff-kZ7z"
      },
      "execution_count": null,
      "outputs": []
    },
    {
      "cell_type": "code",
      "source": [
        "points=np.asarray(point_cloud.points)\n",
        "colors=np.asarray(point_cloud.colors)"
      ],
      "metadata": {
        "id": "OaaP8uitkZ5d"
      },
      "execution_count": null,
      "outputs": []
    },
    {
      "cell_type": "code",
      "source": [
        "print(points)"
      ],
      "metadata": {
        "id": "1JwzBFLNkZ3Q"
      },
      "execution_count": null,
      "outputs": []
    },
    {
      "cell_type": "code",
      "source": [
        "print(colors) # Values of reflectance"
      ],
      "metadata": {
        "id": "IJNx5TYMkZ0y"
      },
      "execution_count": null,
      "outputs": []
    },
    {
      "cell_type": "code",
      "source": [
        "import plotly.graph_objects as go\n",
        "\n",
        "distances = np.linalg.norm(points, axis=1)\n",
        "\n",
        "fig = go.Figure(data=[go.Scatter3d(\n",
        "    x=points[:, 0],\n",
        "    y=points[:, 1],\n",
        "    z=points[:, 2],\n",
        "    mode='markers',\n",
        "    marker=dict(\n",
        "        size=2,\n",
        "        color=distances,  # use distances for color\n",
        "        colorscale='Viridis',  # choose a colorscale\n",
        "        colorbar=dict(title=\"Distance from Origin\"),  # add a colorbar title\n",
        "        opacity=0.8\n",
        "    )\n",
        ")])\n",
        "fig.update_scenes(aspectmode='data')\n",
        "\n",
        "fig.show()"
      ],
      "metadata": {
        "id": "KLfbQu_5vPT3"
      },
      "execution_count": null,
      "outputs": []
    },
    {
      "cell_type": "code",
      "source": [
        "fig = go.Figure(data=[go.Scatter3d(\n",
        "    x=points[:, 0],\n",
        "    y=points[:, 1],\n",
        "    z=points[:, 2],\n",
        "    mode='markers',\n",
        "    marker=dict(\n",
        "        size=2,\n",
        "        color=distances,  # use distances for color\n",
        "        colorscale='Inferno',  # choose a colorscale\n",
        "        colorbar=dict(title=\"Distance from Origin\", bgcolor=\"white\"),  # add a colorbar title\n",
        "        opacity=0.8\n",
        "    )\n",
        ")])\n",
        "\n",
        "fig.update_layout(\n",
        "    scene=dict(\n",
        "        xaxis=dict(showbackground=False, showline=False, zeroline=False, showgrid=False, showticklabels=False, title=''),\n",
        "        yaxis=dict(showbackground=False, showline=False, zeroline=False, showgrid=False, showticklabels=False, title=''),\n",
        "        zaxis=dict(showbackground=False, showline=False, zeroline=False, showgrid=False, showticklabels=False, title=''),\n",
        "        aspectmode='data',\n",
        "        camera=dict(\n",
        "            up=dict(x=-0.2, y=0, z=1),\n",
        "            center=dict(x=0.2, y=0, z=0.2),\n",
        "            eye=dict(x=-0.5, y=0, z=0.2))\n",
        "    ),\n",
        "    plot_bgcolor='black',\n",
        "    paper_bgcolor='black',\n",
        "    scene_dragmode='orbit'\n",
        ")\n",
        "fig.show()"
      ],
      "metadata": {
        "id": "DqFzhxVBv8Xo"
      },
      "execution_count": null,
      "outputs": []
    },
    {
      "cell_type": "code",
      "source": [
        "from open3d.visualization.draw_plotly import get_plotly_fig             # Simply visualizing points using reflectance and dark mode\n",
        "\n",
        "def vis_pcd(point_cloud, save=\"False\", show=True):\n",
        "    fig = get_plotly_fig(point_cloud, width = 800, height = 533, mesh_show_wireframe =False,\n",
        "                            point_sample_factor = 1, front = (1,1,1), lookat =(1,1,1), up=(1,1,1), zoom=1.0)\n",
        "    #fig.update_scenes(aspectmode='data')\n",
        "    fig.update_layout(\n",
        "    scene=dict(\n",
        "        #xaxis=dict(showbackground=False, showline=False, zeroline=False, showgrid=False, showticklabels=False, title=''),\n",
        "        xaxis=dict(visible=False,range=[-70,70]),\n",
        "        yaxis=dict(visible=False,range=[-40,40]),\n",
        "        zaxis=dict(visible=False,range = [-5,1]),\n",
        "        aspectmode='manual', aspectratio= dict(x=2, y=1, z=0.1),\n",
        "        camera=dict(\n",
        "            #up=dict(x=-0.2, y=0, z=0.3),\n",
        "            up = dict(x=0.15, y =0, z=1),\n",
        "            center=dict(x=0, y=0, z=0.1),\n",
        "            #eye=dict(x=-0.5, y=0, z=0.2)\n",
        "            eye = dict(x = -0.3, y=0, z=0.2)\n",
        "        )\n",
        "    ),\n",
        "    plot_bgcolor='black',\n",
        "    paper_bgcolor='black',\n",
        "    scene_dragmode='orbit'\n",
        ")\n",
        "    if show == True:\n",
        "        fig.show()\n",
        "\n",
        "    return fig\n",
        "\n",
        "\n",
        "point_cloud = o3d.io.read_point_cloud(point_cloud_files[200])\n",
        "fig = vis_pcd([point_cloud], save=\"1\")\n"
      ],
      "metadata": {
        "id": "IogCIllZkZvf"
      },
      "execution_count": null,
      "outputs": []
    },
    {
      "cell_type": "code",
      "source": [
        "def reflectivity_threshold(pcd, thresh=0.5):\n",
        "    colors = np.asarray(pcd.colors)\n",
        "    reflectivities = colors[:, 0]\n",
        "    # Get the point coordinates\n",
        "    points = np.asarray(pcd.points)\n",
        "    # Create a mask of points that have reflectivity above the threshold\n",
        "    mask = reflectivities > thresh\n",
        "\n",
        "    # Filter points and reflectivities using the mask\n",
        "    filtered_points = points[mask]\n",
        "    filtered_reflectivities = reflectivities[mask]\n",
        "\n",
        "    # Create a new point cloud with the filtered points\n",
        "    filtered_point_cloud = o3d.geometry.PointCloud()\n",
        "    filtered_point_cloud.points = o3d.utility.Vector3dVector(filtered_points)\n",
        "    return filtered_point_cloud\n",
        "\n",
        "#point_cloud = o3d.io.read_point_cloud(point_cloud_files[idx])\n",
        "filtered_point_cloud = reflectivity_threshold(point_cloud, thresh=0.45)"
      ],
      "metadata": {
        "id": "B0eNk34G2hyx"
      },
      "execution_count": null,
      "outputs": []
    },
    {
      "cell_type": "code",
      "source": [
        "fig = vis_pcd([point_cloud.paint_uniform_color((0.2,0.2,0.2)),filtered_point_cloud])"
      ],
      "metadata": {
        "id": "q-bWVbxu2j0Z"
      },
      "execution_count": null,
      "outputs": []
    },
    {
      "cell_type": "code",
      "source": [
        "def roi_filter(pcd, roi_min=(0,-3,-2), roi_max=(20,3,0)):\n",
        "    points = np.asarray(pcd.points)\n",
        "\n",
        "    mask_roi = np.logical_and.reduce((\n",
        "        points[:, 0] >= roi_min[0],\n",
        "        points[:, 0] <= roi_max[0],\n",
        "        points[:, 1] >= roi_min[1],\n",
        "        points[:, 1] <= roi_max[1],\n",
        "        points[:, 2] >= roi_min[2],\n",
        "        points[:, 2] <= roi_max[2]\n",
        "    ))\n",
        "\n",
        "    roi_points = points[mask_roi]\n",
        "\n",
        "    # Create a new point cloud with the filtered points\n",
        "    roi_pcd = o3d.geometry.PointCloud()\n",
        "    roi_pcd.points = o3d.utility.Vector3dVector(roi_points)\n",
        "    return roi_pcd\n",
        "\n",
        "roi_pcd = roi_filter(filtered_point_cloud)\n",
        "fig = vis_pcd([point_cloud.paint_uniform_color((0.2,0.2,0.2)),roi_pcd])"
      ],
      "metadata": {
        "id": "PZxVVXm-kZpa"
      },
      "execution_count": null,
      "outputs": []
    },
    {
      "cell_type": "code",
      "source": [
        "def lane_line_pipeline(pcd):\n",
        "    filtered_point_cloud = reflectivity_threshold(pcd)\n",
        "    roi_pcd = roi_filter(filtered_point_cloud)\n",
        "    return roi_pcd, filtered_point_cloud, pcd\n",
        "\n",
        "point_cloud = o3d.io.read_point_cloud(point_cloud_files[201])\n",
        "roi_pcd, filtered_point_cloud, pcd = lane_line_pipeline(point_cloud)\n",
        "\n",
        "fig = vis_pcd([pcd.paint_uniform_color((0.2,0.2,0.2)),roi_pcd], show=True)"
      ],
      "metadata": {
        "id": "RuTrxRwAkZdf"
      },
      "execution_count": null,
      "outputs": []
    },
    {
      "cell_type": "code",
      "source": [
        "pcd = o3d.io.read_point_cloud(point_cloud_files[200]) # 200 has some objects\n",
        "print(len(pcd.points))"
      ],
      "metadata": {
        "id": "lhp7Nc2I_8Yt"
      },
      "execution_count": null,
      "outputs": []
    },
    {
      "cell_type": "code",
      "source": [
        "downpcd = pcd.voxel_down_sample(voxel_size=0.1)\n",
        "print(len(downpcd.points))"
      ],
      "metadata": {
        "id": "Jm_A0xGrYDAJ"
      },
      "execution_count": null,
      "outputs": []
    },
    {
      "cell_type": "code",
      "source": [
        "vis_pcd([downpcd])"
      ],
      "metadata": {
        "id": "Idvl6I6-YFOg"
      },
      "execution_count": null,
      "outputs": []
    },
    {
      "cell_type": "code",
      "source": [
        "def ransac(pcd, distance_threshold=0.33, ransac_n=3, num_iterations=100):\n",
        "    plane_model, inliers = downpcd.segment_plane(distance_threshold=distance_threshold, ransac_n=ransac_n, num_iterations=num_iterations)\n",
        "    inlier_cloud = downpcd.select_by_index(inliers)\n",
        "    outlier_cloud = downpcd.select_by_index(inliers, invert=True)\n",
        "    outlier_cloud.paint_uniform_color([0.5, 0.75, 0.25])\n",
        "    inlier_cloud.paint_uniform_color([0.25, 0.5, 0.75])\n",
        "    return inlier_cloud, outlier_cloud\n",
        "\n",
        "inlier_cloud, outlier_cloud = ransac(downpcd, distance_threshold=0.3, ransac_n=3, num_iterations=200)\n",
        "fig = vis_pcd([inlier_cloud, outlier_cloud])"
      ],
      "metadata": {
        "id": "4brWvMoRYcMa"
      },
      "execution_count": null,
      "outputs": []
    },
    {
      "cell_type": "code",
      "source": [
        "def dbscan(outlier_cloud, eps = 1, min_points=15):\n",
        "    # You can also use an ROI Filter here.\n",
        "    outlier_cloud = roi_filter(outlier_cloud, roi_min=(-20, -8, -2), roi_max=(20,8,0))\n",
        "    labels = np.array(outlier_cloud.cluster_dbscan(eps=eps, min_points=min_points))\n",
        "    max_label = labels.max()\n",
        "    colors = plt.get_cmap(\"inferno_r\")(labels / (max_label if max_label > 0 else 1))\n",
        "    colors[labels < 0] = 0\n",
        "    outlier_cloud.colors = o3d.utility.Vector3dVector(colors[:, :3])\n",
        "    return outlier_cloud, labels\n",
        "\n",
        "roi_outliers, labels = dbscan(outlier_cloud, eps=1, min_points=15)\n",
        "fig = vis_pcd([inlier_cloud, roi_outliers])"
      ],
      "metadata": {
        "id": "th-jqgwIcOBV"
      },
      "execution_count": null,
      "outputs": []
    },
    {
      "cell_type": "code",
      "source": [
        "print(labels)\n",
        "print(len(labels))"
      ],
      "metadata": {
        "id": "jJ8PA5m1fX05"
      },
      "execution_count": null,
      "outputs": []
    },
    {
      "cell_type": "code",
      "source": [
        "def get_bounding_boxes(labels, outlier_cloud):\n",
        "    # Extract points for each cluster\n",
        "    clusters = {}\n",
        "    for i, label in enumerate(labels):\n",
        "        if label >= 0:\n",
        "            if label not in clusters:\n",
        "                clusters[label] = []\n",
        "            clusters[label].append(outlier_cloud.points[i])\n",
        "\n",
        "    clusters = {label: points for label, points in clusters.items() if len(points) <= 900}\n",
        "\n",
        "    # Create AABB for each cluster\n",
        "    aabb_boxes = []\n",
        "    for points in clusters.values():\n",
        "        cluster_cloud = o3d.geometry.PointCloud()\n",
        "        cluster_cloud.points = o3d.utility.Vector3dVector(points)\n",
        "        aabb = cluster_cloud.get_axis_aligned_bounding_box()\n",
        "        aabb_boxes.append(aabb)\n",
        "    return aabb_boxes\n",
        "\n",
        "aabb_boxes = get_bounding_boxes(labels, roi_outliers)\n",
        "print(len(aabb_boxes))"
      ],
      "metadata": {
        "id": "7Y9GzyNqh7rD"
      },
      "execution_count": null,
      "outputs": []
    },
    {
      "cell_type": "code",
      "source": [
        "def get_trace(obb_boxes, fig):\n",
        "    width = 1.0\n",
        "    height = 2.0\n",
        "    depth = 3.0\n",
        "    for obb in obb_boxes:\n",
        "        # Get the eight corner points of the OBB\n",
        "        corners = np.asarray(obb.get_box_points())\n",
        "\n",
        "        # Extract x, y, and z coordinates of the corners\n",
        "        x = corners[:, 0]\n",
        "        y = corners[:, 1]\n",
        "        z = corners[:, 2]\n",
        "        # Create a Mesh3d trace for the oriented bounding box with opacity\n",
        "        obb_trace = go.Mesh3d(\n",
        "            x=x,\n",
        "            y=y,\n",
        "            z=z,\n",
        "            i=[0, 1, 2, 3, 4, 5, 6, 7, 0, 1, 2, 3, 4, 5, 6, 7, 0, 2, 6, 4, 1, 3, 7, 5],\n",
        "            j=[1, 2, 3, 0, 5, 6, 7, 4, 2, 3, 7, 6, 1, 0, 4, 5, 6, 7, 3, 2, 0, 1, 5, 4],\n",
        "            k=[2, 3, 0, 1, 6, 7, 4, 5, 3, 7, 6, 2, 0, 4, 5, 1, 7, 6, 2, 4, 1, 5, 0, 3],\n",
        "            color='blue',\n",
        "            opacity=0.3\n",
        "        )\n",
        "\n",
        "        # Add the Mesh3d trace to the figure\n",
        "        fig.add_trace(obb_trace)\n",
        "    return fig"
      ],
      "metadata": {
        "id": "OxFtwlEFjToA"
      },
      "execution_count": null,
      "outputs": []
    },
    {
      "cell_type": "code",
      "source": [
        "def pipeline(pcd):\n",
        "    inlier_cloud, outlier_cloud = ransac(pcd, distance_threshold=0.3, ransac_n=3, num_iterations=200)\n",
        "    roi_outliers, labels = dbscan(outlier_cloud)\n",
        "    aabb_boxes = get_bounding_boxes(labels, roi_outliers)\n",
        "    fig = vis_pcd([roi_outliers, inlier_cloud], show=False)\n",
        "    fig = get_trace(aabb_boxes, fig)\n",
        "    fig.show()"
      ],
      "metadata": {
        "id": "Ovu1p4aPjr18"
      },
      "execution_count": null,
      "outputs": []
    },
    {
      "cell_type": "code",
      "source": [
        "def seg_pipeline(pcd, idx):\n",
        "    downpcd = pcd.voxel_down_sample(voxel_size=0.2)\n",
        "    inlier_cloud, outlier_cloud = ransac(downpcd, distance_threshold=0.3, ransac_n=3, num_iterations=200)\n",
        "    roi_outliers, labels = dbscan(outlier_cloud)\n",
        "    aabb_boxes = get_bounding_boxes(labels, roi_outliers)\n",
        "    fig = vis_pcd([downpcd, roi_outliers, inlier_cloud], show=False)\n",
        "    fig = get_trace(aabb_boxes, fig)\n",
        "    fig.write_image(\"output/\"+str(idx)+\"_processed_obj.jpg\", scale=3)\n",
        "    fig = go.Figure()"
      ],
      "metadata": {
        "id": "ubXy9sfnJX-g"
      },
      "execution_count": null,
      "outputs": []
    },
    {
      "cell_type": "code",
      "source": [
        "pipeline(pcd)"
      ],
      "metadata": {
        "id": "06IEDcKvjyiX"
      },
      "execution_count": null,
      "outputs": []
    },
    {
      "cell_type": "code",
      "source": [
        "import cv2\n",
        "from tqdm import tqdm\n",
        "\n",
        "output_handle = cv2.VideoWriter(\"objects_output.avi\", cv2.VideoWriter_fourcc(*'XVID'), 10, (2400, 1599))\n",
        "\n",
        "start_index = 250\n",
        "stop_index = 400\n",
        "pbar = tqdm(total = (stop_index - start_index), position=0, leave=True)\n",
        "all_files = [o3d.io.read_point_cloud(point_cloud_files[i]) for i in range(start_index, stop_index)]\n",
        "\n",
        "for i in range(len(all_files)):\n",
        "    seg_pipeline(all_files[i], str(start_index+i))\n",
        "    output_handle.write(cv2.imread(\"output/\"+str(start_index+i)+\"_processed_obj.jpg\"))\n",
        "    pbar.update(1)\n",
        "\n",
        "output_handle.release()"
      ],
      "metadata": {
        "id": "Spfo4CtP9q7-"
      },
      "execution_count": null,
      "outputs": []
    },
    {
      "cell_type": "code",
      "source": [],
      "metadata": {
        "id": "IQM-6XkrgSqe"
      },
      "execution_count": null,
      "outputs": []
    }
  ]
}